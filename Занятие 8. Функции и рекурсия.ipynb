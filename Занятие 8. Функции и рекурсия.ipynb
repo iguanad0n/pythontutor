{
 "cells": [
  {
   "cell_type": "markdown",
   "id": "285632de-d466-45d6-bc13-89b91f89ed59",
   "metadata": {},
   "source": [
    "Задача «Длина отрезка»\n",
    "Условие:\n",
    "Даны четыре действительных числа: x1, y1, x2, y2. Напишите функцию distance(x1, y1, x2, y2), вычисляющая расстояние между точкой (x1,y1) и (x2,y2). Считайте четыре действительных числа и выведите результат работы этой функции."
   ]
  },
  {
   "cell_type": "code",
   "execution_count": null,
   "id": "23c6057d-b573-4efd-b644-fed95586b615",
   "metadata": {},
   "outputs": [],
   "source": [
    "def distance(x1,y1,x2,y2):\n",
    "    return ((x2 - x1) ** 2 + (y2 - y1) ** 2) ** 0.5\n",
    "\n",
    "x1,y1,x2,y2 = float(input()), float(input()), float(input()), float(input())\n",
    "print(distance(x1,y1,x2,y2))"
   ]
  },
  {
   "cell_type": "markdown",
   "id": "c8851181-0040-46f3-b851-98593f8bd7a2",
   "metadata": {},
   "source": [
    "Задача «Отрицательная степень»\n",
    "Условие:\n",
    "Дано действительное положительное число a и целоe число n.\n",
    "Вычислите an. Решение оформите в виде функции power(a, n).\n",
    "Стандартной функцией возведения в степень пользоваться нельзя."
   ]
  },
  {
   "cell_type": "code",
   "execution_count": null,
   "id": "b01094e4-e8f6-4bde-827d-8d6cab7ad56a",
   "metadata": {},
   "outputs": [],
   "source": [
    "def power(a,n):\n",
    "    if n == 0:\n",
    "        return 1\n",
    "    elif n > 0:\n",
    "        while n != 0:\n",
    "            return a * power(a,n-1)\n",
    "    elif n < 0:\n",
    "        while n != 0:\n",
    "            return (1 / a) * power(a, n + 1)\n",
    "\n",
    "a,n = float(input()), int(input())\n",
    "print(power(a, n))\n"
   ]
  },
  {
   "cell_type": "markdown",
   "id": "596bd4c1-b8cd-4d0d-ad35-5a5d5b297bd0",
   "metadata": {},
   "source": [
    "Задача «Большие буквы»\n",
    "Условие:\n",
    "Напишите функцию capitalize(), которая принимает слово из маленьких латинских букв и возвращает его же, меняя первую букву на большую.\n",
    "Например, print(capitalize('word')) должно печатать слово Word.\n",
    "\n",
    "На вход подаётся строка, состоящая из слов, разделённых одним пробелом. Слова состоят из маленьких латинских букв. Напечатайте исходную строку, сделав так, чтобы каждое слово начиналось с большой буквы. При этом используйте вашу функцию capitalize().\n",
    "\n",
    "Напомним, что в Питоне есть функция ord(), которая по символу возвращает его код в таблице ASCII, и функция chr(), которая по коду символа возвращает сам символ. Например, ord('a') == 97, chr(97) == 'a'."
   ]
  },
  {
   "cell_type": "code",
   "execution_count": null,
   "id": "e9146168-ed03-4aa4-9e4b-a5d8a22bcc87",
   "metadata": {},
   "outputs": [],
   "source": [
    "def capitalize(word):\n",
    "    return word.title()\n",
    "\n",
    "word = input()    \n",
    "print(capitalize(word))"
   ]
  },
  {
   "cell_type": "markdown",
   "id": "149f2f7a-37fb-4f0d-80b1-38e2d0fcc655",
   "metadata": {},
   "source": [
    "Задача «Возведение в степень»\n",
    "Условие:\n",
    "Дано действительное положительное число a и целое неотрицательное число n. Вычислите an не используя циклы, возведение в степень через ** и функцию math.pow(), а используя рекуррентное соотношение an=a⋅an-1.\n",
    "\n",
    "Решение оформите в виде функции power(a, n)."
   ]
  },
  {
   "cell_type": "code",
   "execution_count": null,
   "id": "9989b020-3b5d-46e2-b5d0-3f71406a5e1f",
   "metadata": {},
   "outputs": [],
   "source": [
    "ef power(a, n):\n",
    "    if n == 0:\n",
    "        return 1\n",
    "    else:\n",
    "        return a * power(a, n - 1)\n",
    "    \n",
    "print(power(float(input()), int(input())))"
   ]
  },
  {
   "cell_type": "markdown",
   "id": "5a733244-891f-49bc-81df-639b292dc888",
   "metadata": {},
   "source": [
    "Задача «Разворот последовательности»\n",
    "Условие:\n",
    "Дана последовательность целых чисел, заканчивающаяся числом 0. Выведите эту последовательность в обратном порядке.\n",
    "При решении этой задачи нельзя пользоваться массивами и прочими динамическими структурами данных. Рекурсия вам поможет."
   ]
  },
  {
   "cell_type": "code",
   "execution_count": null,
   "id": "3d7ea240-aaf4-4a31-a6bc-e5656b0897f8",
   "metadata": {},
   "outputs": [],
   "source": [
    "def reverse():\n",
    "    a = int(input())\n",
    "    if a != 0:\n",
    "        reverse()\n",
    "    print(a)\n",
    "reverse()"
   ]
  },
  {
   "cell_type": "markdown",
   "id": "477fcbe4-acee-47cc-9471-862e92320d5e",
   "metadata": {},
   "source": [
    "Задача «Числа Фибоначчи»\n",
    "Условие:\n",
    "Напишите функцию fib(n), которая по данному целому неотрицательному n возвращает n-e число Фибоначчи. В этой задаче нельзя использовать циклы — используйте рекурсию."
   ]
  },
  {
   "cell_type": "code",
   "execution_count": null,
   "id": "44164222-1d3e-42f8-bc1c-810abb5f80e9",
   "metadata": {},
   "outputs": [],
   "source": [
    "def fib(n):\n",
    "    if n == 1 or n == 2:\n",
    "        return 1\n",
    "    else:\n",
    "        return fib(n - 1) + fib(n - 2)\n",
    "\n",
    "print(fib(int(input())))"
   ]
  }
 ],
 "metadata": {
  "kernelspec": {
   "display_name": "Python 3 (ipykernel)",
   "language": "python",
   "name": "python3"
  },
  "language_info": {
   "codemirror_mode": {
    "name": "ipython",
    "version": 3
   },
   "file_extension": ".py",
   "mimetype": "text/x-python",
   "name": "python",
   "nbconvert_exporter": "python",
   "pygments_lexer": "ipython3",
   "version": "3.10.12"
  }
 },
 "nbformat": 4,
 "nbformat_minor": 5
}
