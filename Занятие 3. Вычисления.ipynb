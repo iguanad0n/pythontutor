{
 "cells": [
  {
   "cell_type": "markdown",
   "id": "c1b4ae9f-fa3f-4f33-a281-711eb119ec47",
   "metadata": {},
   "source": [
    "Задача «Последняя цифра числа»\n",
    "Условие:\n",
    "Дано натуральное число. Выведите его последнюю цифру."
   ]
  },
  {
   "cell_type": "code",
   "execution_count": null,
   "id": "d6f8963b-623c-43cb-b43b-cfc5cbe7d7b2",
   "metadata": {},
   "outputs": [],
   "source": [
    "n = int(input())\n",
    "print(n % 10)"
   ]
  },
  {
   "cell_type": "markdown",
   "id": "28f821cf-b97d-405d-9916-807c15ab51f9",
   "metadata": {},
   "source": [
    "Задача «МКАД»\n",
    "Условие:\n",
    "Длина Московской кольцевой автомобильной дороги —109 километров. Байкер Вася стартует с нулевого километра МКАД и едет со скоростью v километров в час. На какой отметке он остановится через t часов?\n",
    "Программа получает на вход значение v и t. Если v>0, то Вася движется в положительном направлении по МКАД, если же значение v<0, то в отрицательном.\n",
    "Программа должна вывести целое число от 0 до 108 — номер отметки, на которой остановится Вася."
   ]
  },
  {
   "cell_type": "code",
   "execution_count": null,
   "id": "4f96c85e-b794-4021-8212-f1df3e124d4d",
   "metadata": {},
   "outputs": [],
   "source": [
    "v,t = int(input()), int(input())\n",
    "print(v * t % 109)"
   ]
  },
  {
   "cell_type": "markdown",
   "id": "2b697605-21e8-4992-9a32-8f716fa5516c",
   "metadata": {},
   "source": [
    "Задача «Дробная часть»\n",
    "Условие:\n",
    "Дано положительное действительное число X. Выведите его дробную часть."
   ]
  },
  {
   "cell_type": "code",
   "execution_count": null,
   "id": "6cc779c9-a4bb-479d-9343-408c331a5fa0",
   "metadata": {},
   "outputs": [],
   "source": [
    "x = float(input())\n",
    "print(x - int(x))"
   ]
  },
  {
   "cell_type": "markdown",
   "id": "62ed7173-919a-4288-b415-6ac20731e911",
   "metadata": {},
   "source": [
    "Задача «Первая цифра после точки»\n",
    "Условие:\n",
    "Дано положительное действительное число X. Выведите его первую цифру после десятичной точки."
   ]
  },
  {
   "cell_type": "code",
   "execution_count": null,
   "id": "a191e0f9-a215-4057-94a6-7e8cc5e7d882",
   "metadata": {},
   "outputs": [],
   "source": [
    "x = float(input())\n",
    "print(int(x * 10) % 10)"
   ]
  },
  {
   "cell_type": "markdown",
   "id": "c9ced873-dfa7-476f-bb89-c4f15bc4e3df",
   "metadata": {},
   "source": [
    "Задача «Конец уроков»\n",
    "Условие:\n",
    "В некоторой школе занятия начинаются в 9:00. Продолжительность урока — 45 минут, после 1-го, 3-го, 5-го и т.д. уроков перемена 5 минут, а после 2-го, 4-го, 6-го и т.д. — 15 минут.\n",
    "Дан номер урока (число от 1 до 10). Определите, когда заканчивается указанный урок.\n",
    "Выведите два целых числа: время окончания урока в часах и минутах."
   ]
  },
  {
   "cell_type": "code",
   "execution_count": null,
   "id": "546fdd9b-9b73-4019-9769-684c2f724d52",
   "metadata": {},
   "outputs": [],
   "source": [
    "a = int(input())\n",
    "a = a*45 + (a//2)*5 + ((a+1)//2-1)*15\n",
    "print(a//60 + 9, a%60)\n"
   ]
  },
  {
   "cell_type": "markdown",
   "id": "e431f1a5-ce58-46db-ae8b-1049fce6560e",
   "metadata": {},
   "source": [
    "Задача «Автопробег»\n",
    "Условие:\n",
    "За день машина проезжает n километров. Сколько дней нужно, чтобы проехать маршрут длиной m километров? Программа получает на вход числа n и m."
   ]
  },
  {
   "cell_type": "code",
   "execution_count": null,
   "id": "2fdab784-054c-4c64-bb9a-32e299c8580b",
   "metadata": {},
   "outputs": [],
   "source": [
    "n,m = int(input()), int(input())\n",
    "print(m // n if m % n ==0 else m // n + 1)\n"
   ]
  },
  {
   "cell_type": "markdown",
   "id": "d72a0329-2766-4203-a9c4-6f95c83597ab",
   "metadata": {},
   "source": [
    "Задача «Стоимость покупки»\n",
    "Условие:\n",
    "Пирожок в столовой стоит a рублей и b копеек. Определите, сколько рублей и копеек нужно заплатить за n пирожков. Программа получает на вход три числа: a, b, n, и должна вывести два числа: стоимость покупки в рублях и копейках."
   ]
  },
  {
   "cell_type": "code",
   "execution_count": null,
   "id": "a663a6f3-aa55-465c-854a-d42d86496506",
   "metadata": {},
   "outputs": [],
   "source": [
    "a,b,n = int(input()), int(input()), int(input())\n",
    "cost = n*(a*100 + b)\n",
    "print(cost // 100, cost % 100)"
   ]
  },
  {
   "cell_type": "markdown",
   "id": "21a9e102-1d19-4faa-95dd-233d9e88201e",
   "metadata": {},
   "source": [
    "Задача «Разность времен»\n",
    "Условие:\n",
    "Даны значения двух моментов времени, принадлежащих одним и тем же суткам: часы, минуты и секунды для каждого из моментов времени. Известно, что второй момент времени наступил не раньше первого. Определите, сколько секунд прошло между двумя моментами времени.\n",
    "Программа на вход получает три целых числа: часы, минуты, секунды, задающие первый момент времени и три целых числа, задающих второй момент времени.\n",
    "Выведите число секунд между этими моментами времени."
   ]
  },
  {
   "cell_type": "code",
   "execution_count": null,
   "id": "4c4a8016-2b73-452c-ba75-638b98f0de9e",
   "metadata": {},
   "outputs": [],
   "source": [
    "h1,m1,s1 = int(input()), int(input()), int(input())\n",
    "h2,m2,s2 = int(input()), int(input()), int(input())\n",
    "print(3600 * (h2 - h1) + 60 * (m2 - m1) + (s2 - s1))"
   ]
  },
  {
   "cell_type": "markdown",
   "id": "c30cf6cc-3a25-4545-868d-2e5688bf2a18",
   "metadata": {},
   "source": [
    "Задача «Улитка»\n",
    "Условие:\n",
    "Улитка ползет по вертикальному шесту высотой h метров, поднимаясь за день на a метров, а за ночь спускаясь на b метров. На какой день улитка доползет до вершины шеста?\n",
    "Программа получает на вход натуральные числа h, a, b.\n",
    "Программа должна вывести одно натуральное число. Гарантируется, что a>b."
   ]
  },
  {
   "cell_type": "code",
   "execution_count": null,
   "id": "030282c5-8d27-4ec6-91cb-0f521550c4ab",
   "metadata": {},
   "outputs": [],
   "source": [
    "h,a,b = int(input()),int(input()),int(input())\n",
    "print(int((h-a-1) // (a-b) + 2))"
   ]
  },
  {
   "cell_type": "markdown",
   "id": "349e9f2f-0aad-4960-b07e-eee387009236",
   "metadata": {},
   "source": [
    "Задача «Число десятков»\n",
    "Условие:\n",
    "Дано натуральное число. Найдите число десятков в его десятичной записи."
   ]
  },
  {
   "cell_type": "code",
   "execution_count": null,
   "id": "5ecef329-1621-43cb-b308-3e04985e5154",
   "metadata": {},
   "outputs": [],
   "source": [
    "n = int(input())\n",
    "print(n // 10 % 10)"
   ]
  },
  {
   "cell_type": "markdown",
   "id": "cd2c2f51-a794-4565-9a64-1e9bc7de05f6",
   "metadata": {},
   "source": [
    "Задача «Сумма цифр»\n",
    "Условие:\n",
    "Дано трехзначное число. Найдите сумму его цифр."
   ]
  },
  {
   "cell_type": "code",
   "execution_count": null,
   "id": "260d2d69-ad0f-4c79-8043-a21d8be5fddd",
   "metadata": {},
   "outputs": [],
   "source": [
    "n = int(input())\n",
    "print((n // 100) + (n // 10 % 10) + n % 10)"
   ]
  },
  {
   "cell_type": "markdown",
   "id": "6be67357-0031-4917-a95c-9bca4a127ed1",
   "metadata": {},
   "source": [
    "Задача «Гипотенуза»\n",
    "Условие:\n",
    "Дано два числа a и b. Выведите гипотенузу треугольника с заданными катетами."
   ]
  },
  {
   "cell_type": "code",
   "execution_count": null,
   "id": "8dc25b58-929c-40f2-9049-e482cf6211fb",
   "metadata": {},
   "outputs": [],
   "source": [
    "a,b = int(input()), int(input())\n",
    "print((a**2 + b**2)**0.5)"
   ]
  },
  {
   "cell_type": "markdown",
   "id": "d3752c3c-fbc8-41de-aac0-29a5a7749120",
   "metadata": {},
   "source": [
    "Задача «Часы - 1»\n",
    "Условие:\n",
    "С начала суток прошло H часов, M минут, S секунд (0 ≤ H < 12, 0 ≤ M < 60, 0 ≤ S < 60). По данным числам H, M, S определите угол (в градусах), на который повернулаcь часовая стрелка с начала суток и выведите его в виде действительного числа."
   ]
  },
  {
   "cell_type": "code",
   "execution_count": null,
   "id": "4214501e-03c0-46b9-90ad-2bf1e8d2e8a6",
   "metadata": {},
   "outputs": [],
   "source": [
    "H,M,S = int(input()), int(input()), int(input())\n",
    "print(H * 30 + M * 30 / 60 + S * 30 / 3600)"
   ]
  },
  {
   "cell_type": "markdown",
   "id": "582ac5e0-acf3-4e7d-bdbd-048f2b654980",
   "metadata": {},
   "source": [
    "Задача «Часы - 2»\n",
    "Условие:\n",
    "С начала суток часовая стрелка повернулась на угол в α градусов. Определите на какой угол повернулась минутная стрелка с начала последнего часа. Входные и выходные данные — действительные числа."
   ]
  },
  {
   "cell_type": "code",
   "execution_count": null,
   "id": "bfc1824a-b83c-43a7-8b4e-9ff9c998946e",
   "metadata": {},
   "outputs": [],
   "source": [
    "angle = float(input())\n",
    "print(angle % 30 * 12)"
   ]
  },
  {
   "cell_type": "markdown",
   "id": "f7a3c540-825a-464e-9aca-b6a9ba90d2e0",
   "metadata": {},
   "source": [
    "Задача «Часы - 3»\n",
    "Условие:\n",
    "С начала суток часовая стрелка повернулась на угол в α градусов. Определите сколько полных часов, минут и секунд прошло с начала суток, то есть решите задачу, обратную задаче «Часы - 1». Запишите ответ в три переменные и выведите их на экран."
   ]
  },
  {
   "cell_type": "code",
   "execution_count": null,
   "id": "31d65237-be0a-4dc3-a06f-66732bbff991",
   "metadata": {},
   "outputs": [],
   "source": [
    "angle = float(input())\n",
    "print(int(angle // 30), int(angle % 30 * 2), int(angle % 0.5 * 120))"
   ]
  },
  {
   "cell_type": "markdown",
   "id": "6a7ae9d2-41bf-4b07-83bf-dce7f4827591",
   "metadata": {},
   "source": [
    "Задача «Проценты»\n",
    "Условие:\n",
    "Процентная ставка по вкладу составляет P процентов годовых, которые прибавляются к сумме вклада. Вклад составляет X рублей Y копеек. Определите размер вклада через год.\n",
    "Программа получает на вход целые числа P, X, Y и должна вывести два числа: величину вклада через год в рублях и копейках. Дробная часть копеек отбрасывается."
   ]
  },
  {
   "cell_type": "code",
   "execution_count": null,
   "id": "d0e8133d-095b-4dac-8e2c-c1a4bbe7233e",
   "metadata": {},
   "outputs": [],
   "source": [
    "P,X,Y = int(input()), int(input()), int(input())\n",
    "S = X * 100 + Y\n",
    "result = S + (S * P / 100)\n",
    "print(int(result // 100), int(result % 100))"
   ]
  }
 ],
 "metadata": {
  "kernelspec": {
   "display_name": "Python 3 (ipykernel)",
   "language": "python",
   "name": "python3"
  },
  "language_info": {
   "codemirror_mode": {
    "name": "ipython",
    "version": 3
   },
   "file_extension": ".py",
   "mimetype": "text/x-python",
   "name": "python",
   "nbconvert_exporter": "python",
   "pygments_lexer": "ipython3",
   "version": "3.10.12"
  }
 },
 "nbformat": 4,
 "nbformat_minor": 5
}
