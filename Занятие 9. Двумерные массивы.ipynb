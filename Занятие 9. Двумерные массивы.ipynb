{
 "cells": [
  {
   "cell_type": "markdown",
   "id": "01d56290-aab3-434e-bd56-2642e0fac0f1",
   "metadata": {},
   "source": [
    "Задача «Максимум»\n",
    "Условие:\n",
    "Найдите индексы первого вхождения максимального элемента. Выведите два числа: номер строки и номер столбца, в которых стоит наибольший элемент в двумерном массиве. Если таких элементов несколько, то выводится тот, у которого меньше номер строки, а если номера строк равны то тот, у которого меньше номер столбца.\n",
    "\n",
    "Программа получает на вход размеры массива n и m, затем n строк по m чисел в каждой."
   ]
  },
  {
   "cell_type": "code",
   "execution_count": null,
   "id": "37351a54-90c8-4df7-9c3f-fa0309529e44",
   "metadata": {},
   "outputs": [],
   "source": [
    "n, m = [int(s) for s in input().split()]\n",
    "a = [[int(j) for j in input().split()] for i in range(n)]\n",
    "mx = a[0][0]\n",
    "x, y = 0, 0\n",
    "for i in range(n):\n",
    "    for j in range(m):\n",
    "        if a[i][j] > mx:\n",
    "            x, y = i, j\n",
    "            mx = a[i][j]\n",
    "print(x, y)"
   ]
  },
  {
   "cell_type": "markdown",
   "id": "4edc1bc6-c9f8-4f18-8e37-16d27c75978f",
   "metadata": {},
   "source": [
    "Задача «Снежинка»\n",
    "Условие:\n",
    "Дано нечетное число n. Создайте двумерный массив из n×n элементов, заполнив его символами \".\" (каждый элемент массива является строкой из одного символа). Затем заполните символами \"*\" среднюю строку массива, средний столбец массива, главную диагональ и побочную диагональ. В результате единицы в массиве должны образовывать изображение звездочки. Выведите полученный массив на экран, разделяя элементы массива пробелами."
   ]
  },
  {
   "cell_type": "code",
   "execution_count": null,
   "id": "005f4102-95e6-42d0-a7d4-3bcb9227c401",
   "metadata": {},
   "outputs": [],
   "source": [
    "n = int(input())\n",
    "a = [['.'] * n for i in range(n)]\n",
    "for i in range(n):\n",
    "    a[i][i] = '*'\n",
    "    a[n // 2][i] = '*'\n",
    "    a[i][n // 2] = '*'\n",
    "    a[i][n - i - 1] = '*'\n",
    "for row in a:\n",
    "    print(*row)"
   ]
  },
  {
   "cell_type": "markdown",
   "id": "95066e40-93c6-4603-9584-f9dfee8eb59b",
   "metadata": {},
   "source": [
    "Задача «Шахматная доска»\n",
    "Условие:\n",
    "Даны два числа n и m. Создайте двумерный массив размером n×m и заполните его символами \".\" и \"*\" в шахматном порядке. В левом верхнем углу должна стоять точка."
   ]
  },
  {
   "cell_type": "code",
   "execution_count": null,
   "id": "0db2e9fb-a58b-4745-bab2-bd3cb2a5e893",
   "metadata": {},
   "outputs": [],
   "source": [
    "n, m = [int(i) for i in input().split()]\n",
    "a = []\n",
    "for i in range(n):\n",
    "    a.append([])\n",
    "    for j in range(m):\n",
    "        if (i + j) % 2 == 0:\n",
    "            a[i].append('.')\n",
    "        else:\n",
    "            a[i].append('*')\n",
    "for row in a:\n",
    "    print(*row)"
   ]
  },
  {
   "cell_type": "markdown",
   "id": "27801e59-7913-4b6f-8d7d-4f006ec6b008",
   "metadata": {},
   "source": [
    "Задача «Диагонали, параллельные главной»\n",
    "Условие:\n",
    "Дано число n. Создайте массив размером n×n и заполните его по следующему правилу. На главной диагонали должны быть записаны числа 0. На двух диагоналях, прилегающих к главной, числа 1. На следующих двух диагоналях числа 2, и т.д."
   ]
  },
  {
   "cell_type": "code",
   "execution_count": null,
   "id": "1eef7e86-2dde-4cbb-b8bf-2628506f7381",
   "metadata": {},
   "outputs": [],
   "source": [
    "n = int(input())\n",
    "a = [[abs(i - j) for j in range(n)] for i in range(n)]\n",
    "for row in a:\n",
    "    print(*row)"
   ]
  },
  {
   "cell_type": "markdown",
   "id": "0ffe6af3-237d-43fe-a7ad-8b421f610188",
   "metadata": {},
   "source": [
    "Задача «Побочная диагональ»\n",
    "Условие:\n",
    "Дано число n. Создайте массив размером n×n и заполните его по следующему правилу:\n",
    "Числа на диагонали, идущей из правого верхнего в левый нижний угол равны 1.\n",
    "Числа, стоящие выше этой диагонали, равны 0.\n",
    "Числа, стоящие ниже этой диагонали, равны 2.\n",
    "Полученный массив выведите на экран. Числа в строке разделяйте одним пробелом."
   ]
  },
  {
   "cell_type": "code",
   "execution_count": null,
   "id": "80a3ff55-f8b3-4d24-8923-3213acbd1166",
   "metadata": {},
   "outputs": [],
   "source": [
    "n = int(input())\n",
    "a = [[0] * n for i in range(n)]\n",
    "for i in range(n):\n",
    "    a[i][n - i - 1] = 1\n",
    "for i in range(n):\n",
    "    for j in range(n - i, n):\n",
    "        a[i][j] = 2\n",
    "for row in a:\n",
    "    print(*row)"
   ]
  },
  {
   "cell_type": "markdown",
   "id": "0d61d919-efe8-4a45-bffc-a61089594695",
   "metadata": {},
   "source": [
    "Задача «Поменять столбцы»\n",
    "Условие:\n",
    "Дан двумерный массив и два числа: i и j. Поменяйте в массиве столбцы с номерами i и j и выведите результат.\n",
    "Программа получает на вход размеры массива n и m, затем элементы массива, затем числа i и j.\n",
    "Решение оформите в виде функции swap_columns(a, i, j)."
   ]
  },
  {
   "cell_type": "code",
   "execution_count": null,
   "id": "14e84ee9-ba2d-4a1a-80e0-72721b361162",
   "metadata": {},
   "outputs": [],
   "source": [
    "def swap_columns(a, i, j):\n",
    "    for k in range(len(a)):\n",
    "        a[k][i], a[k][j] = a[k][j], a[k][i]\n",
    "\n",
    "n, m = [int(i) for i in input().split()]\n",
    "a = [[int(j) for j in input().split()] for i in range(n)]\n",
    "i, j = [int(i) for i in input().split()]\n",
    "swap_columns(a, i, j)\n",
    "for row in a:\n",
    "    print(*row)"
   ]
  }
 ],
 "metadata": {
  "kernelspec": {
   "display_name": "Python 3 (ipykernel)",
   "language": "python",
   "name": "python3"
  },
  "language_info": {
   "codemirror_mode": {
    "name": "ipython",
    "version": 3
   },
   "file_extension": ".py",
   "mimetype": "text/x-python",
   "name": "python",
   "nbconvert_exporter": "python",
   "pygments_lexer": "ipython3",
   "version": "3.10.12"
  }
 },
 "nbformat": 4,
 "nbformat_minor": 5
}
