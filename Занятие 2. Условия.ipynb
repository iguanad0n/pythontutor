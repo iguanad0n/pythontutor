{
 "cells": [
  {
   "cell_type": "markdown",
   "id": "340a5fcc-993a-4981-aaa4-50531c987669",
   "metadata": {},
   "source": [
    "Задача «Минимум из двух чисел»\n",
    "Условие:\n",
    "Даны два целых числа. Выведите значение наименьшего из них."
   ]
  },
  {
   "cell_type": "code",
   "execution_count": null,
   "id": "30485c3b-2648-4eac-a706-9610efd0349b",
   "metadata": {},
   "outputs": [],
   "source": [
    "a,b = int(input()), int(input())\n",
    "print(b if a>b else a)"
   ]
  },
  {
   "cell_type": "markdown",
   "id": "496138f6-8364-4053-be5b-a655e7bfca52",
   "metadata": {},
   "source": [
    "Задача «Знак числа»\n",
    "Условие:\n",
    "В математике функция sign(x) (знак числа) определена так:\n",
    "sign(x) = 1, если x > 0,\n",
    "sign(x) = -1, если x < 0,\n",
    "sign(x) = 0, если x = 0.\n",
    "Для данного числа x выведите значение sign(x). Эту задачу желательно решить с использованием каскадных инструкций if... elif... else."
   ]
  },
  {
   "cell_type": "code",
   "execution_count": null,
   "id": "7f99945e-45ba-4f4d-8401-f00301ab6f7c",
   "metadata": {},
   "outputs": [],
   "source": [
    "x = int(input())\n",
    "if x>0:\n",
    "    print(1)\n",
    "elif x < 0:\n",
    "    print(-1)\n",
    "else:\n",
    "    print(0)\n"
   ]
  },
  {
   "cell_type": "markdown",
   "id": "271573cc-99fd-4a2e-ab1a-fa81406128f9",
   "metadata": {},
   "source": [
    "Задача «Шахматная доска»\n",
    "Условие:\n",
    "Заданы две клетки шахматной доски. Если они покрашены в один цвет, то выведите слово YES, а если в разные цвета — то NO. Программа получает на вход четыре числа от 1 до 8 каждое, задающие номер столбца и номер строки сначала для первой клетки, потом для второй клетки."
   ]
  },
  {
   "cell_type": "code",
   "execution_count": null,
   "id": "c28cacaf-f688-4336-9ec7-52babdca9071",
   "metadata": {},
   "outputs": [],
   "source": [
    "x1,y1,x2,y2 = int(input()),int(input()),int(input()),int(input())\n",
    "print('YES' if (x1+y1) % 2 == (x2+y2) % 2 else 'NO')\n"
   ]
  },
  {
   "cell_type": "markdown",
   "id": "6b72cd47-1772-4c84-8144-1cf676fb586d",
   "metadata": {},
   "source": [
    "Задача «Високосный год»\n",
    "Условие:\n",
    "Дано натуральное число. Требуется определить, является ли год с данным номером високосным. Если год является високосным, то выведите YES, иначе выведите NO. Напомним, что в соответствии с григорианским календарем, год является високосным, если его номер кратен 4, но не кратен 100, а также если он кратен 400."
   ]
  },
  {
   "cell_type": "code",
   "execution_count": null,
   "id": "8f4482ac-9872-47d9-b06f-858cfb7ad8be",
   "metadata": {},
   "outputs": [],
   "source": [
    "year = int(input())\n",
    "if (year % 4 ==0 and year % 100 != 0) or year % 400 == 0:\n",
    "    print('YES')\n",
    "else:\n",
    "    print('NO')\n"
   ]
  },
  {
   "cell_type": "markdown",
   "id": "36324da2-e95d-4ead-a1ca-57e23606f296",
   "metadata": {},
   "source": [
    "Задача «Минимум из трех чисел»\n",
    "Условие:\n",
    "Даны три целых числа. Выведите значение наименьшего из них."
   ]
  },
  {
   "cell_type": "code",
   "execution_count": null,
   "id": "02136070-6547-4cf5-b73f-f76e5ef111ba",
   "metadata": {},
   "outputs": [],
   "source": [
    "a,b,c = int(input()), int(input()), int(input())\n",
    "if b >= a <= c:\n",
    "    print(a)\n",
    "elif a >= b <= c:\n",
    "    print(b)\n",
    "else:\n",
    "    print(c)"
   ]
  },
  {
   "cell_type": "markdown",
   "id": "f310c531-4308-4b91-9f7e-9b12f0bf6474",
   "metadata": {},
   "source": [
    "Задача «Сколько совпадает чисел»\n",
    "Условие:\n",
    "Даны три целых числа. Определите, сколько среди них совпадающих. Программа должна вывести одно из чисел: 3 (если все совпадают), 2 (если два совпадает) или 0 (если все числа различны)."
   ]
  },
  {
   "cell_type": "code",
   "execution_count": null,
   "id": "82a95909-412c-47c8-b991-9e3cdf34c013",
   "metadata": {},
   "outputs": [],
   "source": [
    "a,b,c = int(input()),int(input()),int(input())\n",
    "if a==b and b==c:\n",
    "    print(3)\n",
    "elif a == b or b == c or a == c:\n",
    "    print(2)\n",
    "else:\n",
    "    print(0)"
   ]
  },
  {
   "cell_type": "markdown",
   "id": "dafc15c4-eeeb-463d-8380-c320bcdfd202",
   "metadata": {},
   "source": [
    "Задача «Ход ладьи»\n",
    "Условие:\n",
    "Шахматная ладья ходит по горизонтали или вертикали. Даны две различные клетки шахматной доски, определите, может ли ладья попасть с первой клетки на вторую одним ходом. Программа получает на вход четыре числа от 1 до 8 каждое, задающие номер столбца и номер строки сначала для первой клетки, потом для второй клетки. Программа должна вывести YES, если из первой клетки ходом ладьи можно попасть во вторую или NO в противном случае."
   ]
  },
  {
   "cell_type": "code",
   "execution_count": null,
   "id": "4801f9cf-3a22-43b9-81e9-e6d90d3b6430",
   "metadata": {},
   "outputs": [],
   "source": [
    "x1,y1,x2,y2 = int(input()),int(input()),int(input()),int(input())\n",
    "print('YES' if (x1==x2 and y1 != y2) or (x1!=x2 and y1==y2) else 'NO')"
   ]
  },
  {
   "cell_type": "markdown",
   "id": "11f78e89-dc7b-4272-952d-21a8a3452da0",
   "metadata": {},
   "source": [
    "Задача «Ход короля»\n",
    "Условие:\n",
    "Шахматный король ходит по горизонтали, вертикали и диагонали, но только на 1 клетку. Даны две различные клетки шахматной доски, определите, может ли король попасть с первой клетки на вторую одним ходом. Программа получает на вход четыре числа от 1 до 8 каждое, задающие номер столбца и номер строки сначала для первой клетки, потом для второй клетки. Программа должна вывести YES, если из первой клетки ходом короля можно попасть во вторую или NO в противном случае."
   ]
  },
  {
   "cell_type": "code",
   "execution_count": null,
   "id": "d64c4fd1-d532-4820-95ed-852a103fb510",
   "metadata": {},
   "outputs": [],
   "source": [
    "x1,y1,x2,y2 = int(input()), int(input()), int(input()), int(input())\n",
    "print('YES' if abs(x1 - x2) <= 1 and abs(y1 - y2) <= 1 else 'NO')"
   ]
  },
  {
   "cell_type": "markdown",
   "id": "b4fbdfff-312d-4a9f-8653-e1277c3226ff",
   "metadata": {},
   "source": [
    "Задача «Ход слона»\n",
    "Условие:\n",
    "Шахматный слон ходит по диагонали. Даны две различные клетки шахматной доски, определите, может ли слон попасть с первой клетки на вторую одним ходом.\n"
   ]
  },
  {
   "cell_type": "code",
   "execution_count": null,
   "id": "20c069ad-3d89-4e7c-a49d-64a7f3f3ced3",
   "metadata": {},
   "outputs": [],
   "source": [
    "x1,y1,x2,y2 = int(input()), int(input()), int(input()), int(input())\n",
    "print('YES' if abs(x1 - x2) == abs(y1 - y2)  else 'NO')\n"
   ]
  },
  {
   "cell_type": "markdown",
   "id": "13362217-87cb-412a-b98e-b4fd5ffd4241",
   "metadata": {},
   "source": [
    "Задача «Ход ферзя»\n",
    "Условие:\n",
    "Шахматный ферзь ходит по диагонали, горизонтали или вертикали. Даны две различные клетки шахматной доски, определите, может ли ферзь попасть с первой клетки на вторую одним ходом."
   ]
  },
  {
   "cell_type": "code",
   "execution_count": null,
   "id": "1dc925d0-b464-4473-b7af-926c91bbef96",
   "metadata": {},
   "outputs": [],
   "source": [
    "x1,y1,x2,y2 = int(input()),int(input()),int(input()),int(input())\n",
    "print('YES' if (x1==x2 and y1 != y2) or (x1!=x2 and y1==y2) or (abs(x2-x1)==abs(y2-y1)) else 'NO')"
   ]
  },
  {
   "cell_type": "markdown",
   "id": "d459323e-9401-4e51-9593-9fd1f26707a0",
   "metadata": {},
   "source": [
    "Задача «Ход коня»\n",
    "Условие:\n",
    "Шахматный конь ходит буквой “Г” — на две клетки по вертикали в любом направлении и на одну клетку по горизонтали, или наоборот. Даны две различные клетки шахматной доски, определите, может ли конь попасть с первой клетки на вторую одним ходом."
   ]
  },
  {
   "cell_type": "code",
   "execution_count": null,
   "id": "78b4d83c-5cac-49b0-acf7-65de38bc9460",
   "metadata": {},
   "outputs": [],
   "source": [
    "x1,y1,x2,y2 = int(input()),int(input()),int(input()),int(input())\n",
    "print('YES' if (abs(x2-x1)==2 and abs(y2-y1)==1) or (abs(x2-x1)==1 and abs(y2-y1)==2) else 'NO')"
   ]
  },
  {
   "cell_type": "markdown",
   "id": "92dd94ba-88ea-409a-9c8a-735d93e9802c",
   "metadata": {},
   "source": [
    "Задача «Шоколадка»\n",
    "Условие:\n",
    "Шоколадка имеет вид прямоугольника, разделенного на n×m долек. Шоколадку можно один раз разломить по прямой на две части. Определите, можно ли таким образом отломить от шоколадки часть, состоящую ровно из k долек. Программа получает на вход три числа: n, m, k и должна вывести YES или NO."
   ]
  },
  {
   "cell_type": "code",
   "execution_count": null,
   "id": "d0cb0f04-31bf-4f4c-9e9d-460770abb13e",
   "metadata": {},
   "outputs": [],
   "source": [
    "n,m,k = int(input()), int(input()), int(input())\n",
    "if (n == k or k % n == 0 and k <= n * m - n) or (m == k or k % m == 0 and k <= n * m - m):\n",
    "    print('YES')\n",
    "else:\n",
    "    print('NO')"
   ]
  },
  {
   "cell_type": "markdown",
   "id": "ccfd9055-16d5-4864-badc-c190222423c1",
   "metadata": {},
   "source": [
    "Задача «Яша плавает в бассейне»\n",
    "Условие:\n",
    "Яша плавал в бассейне размером N × M метров и устал. В этот момент он обнаружил, что находится на расстоянии x метров от одного из длинных бортиков (не обязательно от ближайшего) и y метров от одного из коротких бортиков. Какое минимальное расстояние должен проплыть Яша, чтобы выбраться из бассейна на бортик? Программа получает на вход числа N, M, x, y. Программа должна вывести число метров, которое нужно проплыть Яше до бортика."
   ]
  },
  {
   "cell_type": "code",
   "execution_count": null,
   "id": "8ccb2599-a479-437d-8436-3e623f490a8c",
   "metadata": {},
   "outputs": [],
   "source": [
    "n,m,x,y = int(input()), int(input()), int(input()), int(input())\n",
    "if n > m:\n",
    "    n, m = m, n\n",
    "if x >= n / 2:\n",
    "    x = n - x\n",
    "if y >= m / 2:\n",
    "    y = m - y\n",
    "if x < y:\n",
    "    print(x)\n",
    "else:\n",
    "    print(y)"
   ]
  }
 ],
 "metadata": {
  "kernelspec": {
   "display_name": "Python 3 (ipykernel)",
   "language": "python",
   "name": "python3"
  },
  "language_info": {
   "codemirror_mode": {
    "name": "ipython",
    "version": 3
   },
   "file_extension": ".py",
   "mimetype": "text/x-python",
   "name": "python",
   "nbconvert_exporter": "python",
   "pygments_lexer": "ipython3",
   "version": "3.10.12"
  }
 },
 "nbformat": 4,
 "nbformat_minor": 5
}
