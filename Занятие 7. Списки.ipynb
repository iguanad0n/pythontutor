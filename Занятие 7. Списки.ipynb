{
 "cells": [
  {
   "cell_type": "markdown",
   "id": "19d26494-c770-45d6-adb7-0fc54dd0ab96",
   "metadata": {},
   "source": [
    "Задача «Четные индексы»\n",
    "Условие:\n",
    "Выведите все элементы списка с четными индексами (то есть A[0], A[2], A[4], ...)."
   ]
  },
  {
   "cell_type": "code",
   "execution_count": null,
   "id": "344629b0-eb4a-4dcd-9ab7-a7577f97bf6c",
   "metadata": {},
   "outputs": [],
   "source": [
    "a = input().split()\n",
    "print(*input().split()[::2])"
   ]
  },
  {
   "cell_type": "markdown",
   "id": "fee05da2-d866-40f0-85a8-fc095b2f1465",
   "metadata": {},
   "source": [
    "Задача «Четные элементы»\n",
    "Условие:\n",
    "Выведите все четные элементы списка. При этом используйте цикл for, перебирающий элементы списка, а не их индексы!"
   ]
  },
  {
   "cell_type": "code",
   "execution_count": null,
   "id": "4dc68ee1-31e6-4d39-bd3a-1144423a0af4",
   "metadata": {},
   "outputs": [],
   "source": [
    "print(*[i for i in input().split() if int(i) % 2 == 0])"
   ]
  },
  {
   "cell_type": "markdown",
   "id": "7b0942cf-9d11-4afd-b381-961f5749330b",
   "metadata": {},
   "source": [
    "Задача «Больше предыдущего»\n",
    "Условие:\n",
    "Дан список чисел. Выведите все элементы списка, которые больше предыдущего элемента."
   ]
  },
  {
   "cell_type": "code",
   "execution_count": null,
   "id": "290a4696-10da-433d-ae4c-1105585a7a47",
   "metadata": {},
   "outputs": [],
   "source": [
    "a = [int(i) for i in input().split()]\n",
    "for i in range(1, len(a)):\n",
    "    if a[i] > a[i - 1]:\n",
    "        print(a[i])"
   ]
  },
  {
   "cell_type": "markdown",
   "id": "cbabe9e3-1a22-4b01-91c6-03b60eb07a91",
   "metadata": {},
   "source": [
    "Задача «Соседи одного знака»\n",
    "Условие:\n",
    "Дан список чисел. Если в нем есть два соседних элемента одного знака, выведите эти числа. Если соседних элементов одного знака нет — не выводите ничего. Если таких пар соседей несколько — выведите первую пару."
   ]
  },
  {
   "cell_type": "code",
   "execution_count": null,
   "id": "0ca22597-3377-42d9-934e-4e01abe6f8f6",
   "metadata": {},
   "outputs": [],
   "source": [
    "a = [int(i) for i in input().split()]\n",
    "for i in range(1, len(a)):\n",
    "    if a[i-1] * a[i] > 0:\n",
    "        print(a[i-1], a[i])\n",
    "        break"
   ]
  },
  {
   "cell_type": "markdown",
   "id": "ada4493f-39b6-4312-9963-2c3a253e220a",
   "metadata": {},
   "source": [
    "Задача «Больше своих соседей»\n",
    "Условие:\n",
    "Дан список чисел. Определите, сколько в этом списке элементов, которые больше двух своих соседей, и выведите количество таких элементов. Крайние элементы списка никогда не учитываются, поскольку у них недостаточно соседей."
   ]
  },
  {
   "cell_type": "code",
   "execution_count": null,
   "id": "b8e1f3ae-e5a0-434d-ba4e-780c4049c174",
   "metadata": {},
   "outputs": [],
   "source": [
    "a = [int(i) for i in input().split()]\n",
    "count = 0\n",
    "for i in range(1, len(a)-1):\n",
    "    if a[i-1] < a[i] > a[i+1]:\n",
    "        count += 1\n",
    "print(count)"
   ]
  },
  {
   "cell_type": "markdown",
   "id": "9264cc04-c718-4d96-b9d2-4361b9c822d5",
   "metadata": {},
   "source": [
    "Задача «Наибольший элемент»\n",
    "Условие:\n",
    "Дан список чисел. Выведите значение наибольшего элемента в списке, а затем индекс этого элемента в списке. Если наибольших элементов несколько, выведите индекс первого из них."
   ]
  },
  {
   "cell_type": "code",
   "execution_count": null,
   "id": "10d81141-d379-403c-9bf7-cf75cfb03640",
   "metadata": {},
   "outputs": [],
   "source": [
    "a = [int(i) for i in input().split()]\n",
    "print(max(a), a.index(max(a)))"
   ]
  },
  {
   "cell_type": "markdown",
   "id": "26ed6d51-b3ea-488c-ae6b-c61d9830349a",
   "metadata": {},
   "source": [
    "Задача «Шеренга»\n",
    "Условие:\n",
    "Петя перешёл в другую школу. На уроке физкультуры ему понадобилось определить своё место в строю. Помогите ему это сделать.\n",
    "Программа получает на вход невозрастающую последовательность натуральных чисел, означающих рост каждого человека в строю. После этого вводится число X – рост Пети. Все числа во входных данных натуральные и не превышают 200.\n",
    "\n",
    "Выведите номер, под которым Петя должен встать в строй. Если в строю есть люди с одинаковым ростом, таким же, как у Пети, то он должен встать после них."
   ]
  },
  {
   "cell_type": "code",
   "execution_count": null,
   "id": "009fc6de-fd43-4760-9f9f-ac4b4585ca4d",
   "metadata": {},
   "outputs": [],
   "source": [
    "a = [int(i) for i in input().split()]\n",
    "X = int(input())\n",
    "pos = 1\n",
    "for i in range(len(a)):\n",
    "    if X <= a[i]:\n",
    "        pos += 1\n",
    "print(pos)"
   ]
  },
  {
   "cell_type": "markdown",
   "id": "3c96ce99-9b43-409e-be59-8e37142b8e88",
   "metadata": {},
   "source": [
    "Задача «Количество различных элементов»\n",
    "Условие:\n",
    "Дан список, упорядоченный по неубыванию элементов в нем. Определите, сколько в нем различных элементов."
   ]
  },
  {
   "cell_type": "code",
   "execution_count": null,
   "id": "4cc1114f-f2be-4bb6-b2ef-68e300d9b050",
   "metadata": {},
   "outputs": [],
   "source": [
    "a = [int(s) for s in input().split()]\n",
    "count = 1\n",
    "for i in range(1, len(a)):\n",
    "    if a[i] != a[i - 1]:\n",
    "        count += 1\n",
    "print(count)"
   ]
  },
  {
   "cell_type": "markdown",
   "id": "aa3f129e-65de-434c-9124-f258536ab753",
   "metadata": {},
   "source": [
    "Задача «Переставить соседние»\n",
    "Условие:\n",
    "Переставьте соседние элементы списка (A[0] c A[1], A[2] c A[3] и т. д.). Если элементов нечетное число, то последний элемент остается на своем месте."
   ]
  },
  {
   "cell_type": "code",
   "execution_count": null,
   "id": "feec3395-df7d-4afd-8de8-b42a67f5af58",
   "metadata": {},
   "outputs": [],
   "source": [
    "a = [int(i) for i in input().split()]\n",
    "for i in range(1, len(a), 2):\n",
    "    a[i - 1], a[i] = a[i], a[i - 1]\n",
    "print(*a)"
   ]
  },
  {
   "cell_type": "markdown",
   "id": "2c62ff4b-60c3-4824-a6bf-2221520c585d",
   "metadata": {},
   "source": [
    "Задача «Переставить min и max»\n",
    "Условие:\n",
    "В списке все элементы различны. Поменяйте местами минимальный и максимальный элемент этого списка."
   ]
  },
  {
   "cell_type": "code",
   "execution_count": null,
   "id": "466dafe7-6c16-4d98-9311-7e4b2226c956",
   "metadata": {},
   "outputs": [],
   "source": [
    "a = [int(i) for i in input().split()]\n",
    "mx = a.index(max(a))\n",
    "mn = a.index(min(a))\n",
    "a[mx], a[mn] = a[mn], a[mx]\n",
    "print(*a)"
   ]
  },
  {
   "cell_type": "markdown",
   "id": "103f9d7c-f681-4e94-a3f2-a2d37d23daa1",
   "metadata": {},
   "source": [
    "Задача «Удалить элемент»\n",
    "Условие:\n",
    "Дан список из чисел и индекс элемента в списке k. Удалите из списка элемент с индексом k, сдвинув влево все элементы, стоящие правее элемента с индексом k.\n",
    "Программа получает на вход список, затем число k. Программа сдвигает все элементы, а после этого удаляет последний элемент списка при помощи метода pop() без параметров.\n",
    "\n",
    "Программа должна осуществлять сдвиг непосредственно в списке, а не делать это при выводе элементов. Также нельзя использовать дополнительный список. Также не следует использовать метод pop(k) с параметром."
   ]
  },
  {
   "cell_type": "code",
   "execution_count": null,
   "id": "0488fef5-af23-475f-9f04-d794c40124e2",
   "metadata": {},
   "outputs": [],
   "source": [
    "a = [int(s) for s in input().split()]\n",
    "n = int(input())\n",
    "for i in range(n, len(a) - 1):\n",
    "    a[i] = a[i + 1]\n",
    "a.pop()\n",
    "print(*a)"
   ]
  },
  {
   "cell_type": "markdown",
   "id": "9424cd64-188f-4225-a113-4d39ff36b11f",
   "metadata": {},
   "source": [
    "Задача «Вставить элемент»\n",
    "Условие:\n",
    "Дан список целых чисел, число k и значение C. Необходимо вставить в список на позицию с индексом k элемент, равный C, сдвинув все элементы, имевшие индекс не менее k, вправо.\n",
    "Поскольку при этом количество элементов в списке увеличивается, после считывания списка в его конец нужно будет добавить новый элемент, используя метод append.\n",
    "\n",
    "Вставку необходимо осуществлять уже в считанном списке, не делая этого при выводе и не создавая дополнительного списка."
   ]
  },
  {
   "cell_type": "code",
   "execution_count": null,
   "id": "bcc09638-0ad7-435f-a2ed-deb18a95c968",
   "metadata": {},
   "outputs": [],
   "source": [
    "a = [int(s) for s in input().split()]\n",
    "k, C = [int(s) for s in input().split()]\n",
    "a.append(0)\n",
    "for i in range(len(a) - 1, k, -1):\n",
    "    a[i] = a[i - 1]\n",
    "a[k] = C\n",
    "print(*a)"
   ]
  },
  {
   "cell_type": "markdown",
   "id": "52f5b91c-8350-416f-8737-b8f958cb89bb",
   "metadata": {},
   "source": [
    "Задача «Количество совпадающих пар»\n",
    "Условие:\n",
    "Дан список чисел. Посчитайте, сколько в нем пар элементов, равных друг другу. Считается, что любые два элемента, равные друг другу образуют одну пару, которую необходимо посчитать.\n"
   ]
  },
  {
   "cell_type": "code",
   "execution_count": null,
   "id": "ce0d2d40-82d0-4b6b-ac52-0b6b38ab35bf",
   "metadata": {},
   "outputs": [],
   "source": [
    "a = [int(i) for i in input().split()]\n",
    "counter = 0\n",
    "for i in range(len(a)):\n",
    "    for j in range(i + 1, len(a)):\n",
    "        if a[i] == a[j]:\n",
    "            counter += 1\n",
    "print(counter)"
   ]
  },
  {
   "cell_type": "markdown",
   "id": "9c369af2-6660-4bb2-b50d-04273be20586",
   "metadata": {},
   "source": [
    "Задача «Уникальные элементы»\n",
    "Условие:\n",
    "Дан список. Выведите те его элементы, которые встречаются в списке только один раз. Элементы нужно выводить в том порядке, в котором они встречаются в списке."
   ]
  },
  {
   "cell_type": "code",
   "execution_count": null,
   "id": "9c81f232-1495-4a43-9ef5-e6c5bad0cf00",
   "metadata": {},
   "outputs": [],
   "source": [
    "a = [int(i) for i in input().split()]\n",
    "for i in a:\n",
    "    if a.count(i) == 1:\n",
    "        print(i, end=' ')"
   ]
  },
  {
   "cell_type": "markdown",
   "id": "a582d870-9253-4f63-8b1f-82c56fc6b20f",
   "metadata": {},
   "source": [
    "Задача «Кегельбан»\n",
    "Условие:\n",
    "N кеглей выставили в один ряд, занумеровав их слева направо числами от 1 до N. Затем по этому ряду бросили K шаров, при этом i-й шар сбил все кегли с номерами от li до ri включительно. Определите, какие кегли остались стоять на месте.\n",
    "Программа получает на вход количество кеглей N и количество бросков K. Далее идет K пар чисел li, ri, при этом 1≤ li≤ ri≤ N.\n",
    "\n",
    "Программа должна вывести последовательность из N символов, где j-й символ есть “I”, если j-я кегля осталась стоять, или “.”, если j-я кегля была сбита."
   ]
  },
  {
   "cell_type": "code",
   "execution_count": null,
   "id": "30019817-8761-4f14-ba5c-01d6bbc1a701",
   "metadata": {},
   "outputs": [],
   "source": [
    "N, K = [int(s) for s in input().split()]\n",
    "kegli = ['I' for i in range(N)]\n",
    "for i in range(K):\n",
    "    l, r = [int(s) for s in input().split()]\n",
    "    n = r - l\n",
    "    kegli[l-1:r] = ['.' for n in range(n+1)]\n",
    "print(''.join([str(i) for i in kegli]))"
   ]
  },
  {
   "cell_type": "markdown",
   "id": "91ca66a7-f6ce-4c6e-8ddc-971b54505399",
   "metadata": {},
   "source": [
    "Задача «Ферзи»\n",
    "Условие:\n",
    "Известно, что на доске 8×8 можно расставить 8 ферзей так, чтобы они не били друг друга. Вам дана расстановка 8 ферзей на доске, определите, есть ли среди них пара бьющих друг друга.\n",
    "Программа получает на вход восемь пар чисел, каждое число от 1 до 8 — координаты 8 ферзей. Если ферзи не бьют друг друга, выведите слово NO, иначе выведите YES."
   ]
  },
  {
   "cell_type": "code",
   "execution_count": null,
   "id": "428c2a80-3912-42c0-8ac9-81d69b1bf4b9",
   "metadata": {},
   "outputs": [],
   "source": [
    "x=[0]*8\n",
    "y=[0]*8\n",
    "flag=False\n",
    "for i in range(8):\n",
    "    x[i], y[i]=[int(k) for k in input().split()]\n",
    "    for j in range(i):\n",
    "        if abs(x[i]-x[j])==abs(y[i]-y[j]) or abs(x[i]-x[j])==0 or abs(y[i]-y[j])==0:\n",
    "            flag=True\n",
    "if flag:\n",
    "    print('YES')\n",
    "else:\n",
    "    print('NO')"
   ]
  }
 ],
 "metadata": {
  "kernelspec": {
   "display_name": "Python 3 (ipykernel)",
   "language": "python",
   "name": "python3"
  },
  "language_info": {
   "codemirror_mode": {
    "name": "ipython",
    "version": 3
   },
   "file_extension": ".py",
   "mimetype": "text/x-python",
   "name": "python",
   "nbconvert_exporter": "python",
   "pygments_lexer": "ipython3",
   "version": "3.10.12"
  }
 },
 "nbformat": 4,
 "nbformat_minor": 5
}
