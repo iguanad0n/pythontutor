{
 "cells": [
  {
   "cell_type": "markdown",
   "id": "ac78a334-7a8a-4043-9d3d-ca8d3fcee396",
   "metadata": {},
   "source": [
    "Задача «Ряд - 1»\n",
    "Условие:\n",
    "Даны два целых числа A и B (при этом A ≤ B). Выведите все числа от A до B включительно."
   ]
  },
  {
   "cell_type": "code",
   "execution_count": null,
   "id": "3af5d3f0-c5dd-46a1-988f-c2b0f4d220f4",
   "metadata": {},
   "outputs": [],
   "source": [
    "A, B = int(input()), int(input())\n",
    "for i in range(A, B+1):\n",
    "    print(i)\n"
   ]
  },
  {
   "cell_type": "markdown",
   "id": "0f58fa8b-5b3f-4be0-b5c2-ffa386f27ba7",
   "metadata": {},
   "source": [
    "Задача «Ряд - 2»\n",
    "Условие:\n",
    "Даны два целых числа A и В. Выведите все числа от A до B включительно, в порядке возрастания, если A < B, или в порядке убывания в противном случае."
   ]
  },
  {
   "cell_type": "code",
   "execution_count": null,
   "id": "4f77b04f-24d2-469b-a913-ebf2362bd75b",
   "metadata": {},
   "outputs": [],
   "source": [
    "A, B = int(input()), int(input())\n",
    "if A < B:\n",
    "    for x in range (A, B + 1):\n",
    "        print (x)\n",
    "else:\n",
    "    for x in range (A, B - 1, -1):\n",
    "        print (x)"
   ]
  },
  {
   "cell_type": "markdown",
   "id": "5c11adb6-6725-413a-84f5-4c6111467e7a",
   "metadata": {},
   "source": [
    "Задача «Ряд - 3»\n",
    "Условие:\n",
    "Даны два целых числа A и В, A>B. Выведите все нечётные числа от A до B включительно, в порядке убывания. В этой задаче можно обойтись без инструкции if."
   ]
  },
  {
   "cell_type": "code",
   "execution_count": null,
   "id": "74f51bd3-faf0-4a1a-b992-4f5036b9c46e",
   "metadata": {},
   "outputs": [],
   "source": [
    "A, B = int(input()), int(input())\n",
    "for i in range(A - (A + 1) % 2,B - B % 2, -2):\n",
    "    print(i)"
   ]
  },
  {
   "cell_type": "markdown",
   "id": "17487bb3-4e7d-4405-80b9-83a91aad90f7",
   "metadata": {},
   "source": [
    "Задача «Сумма десяти чисел»\n",
    "Условие:\n",
    "Дано 10 целых чисел. Вычислите их сумму. Напишите программу, использующую наименьшее число переменных."
   ]
  },
  {
   "cell_type": "code",
   "execution_count": null,
   "id": "2d99bd84-b0f1-4f4f-b1a0-bd1246213941",
   "metadata": {},
   "outputs": [],
   "source": [
    "sm = 0\n",
    "for _ in range(10):\n",
    "    sm += int(input())\n",
    "print(sm)"
   ]
  },
  {
   "cell_type": "markdown",
   "id": "cbf2b713-e798-4b1e-9b2e-e72cb07628da",
   "metadata": {},
   "source": [
    "Задача «Сумма N чисел»\n",
    "Условие:\n",
    "Дано несколько чисел. Вычислите их сумму. Сначала вводите количество чисел N, затем вводится ровно N целых чисел. Какое наименьшее число переменных нужно для решения этой задачи?"
   ]
  },
  {
   "cell_type": "code",
   "execution_count": null,
   "id": "b5421763-9260-4f83-b26c-859523223b0d",
   "metadata": {},
   "outputs": [],
   "source": [
    "N = int(input())\n",
    "sm = 0\n",
    "for _ in range(N):\n",
    "    sm += int(input())\n",
    "print(sm)"
   ]
  },
  {
   "cell_type": "markdown",
   "id": "758d842d-5000-4649-8f12-13ceb1fb7981",
   "metadata": {},
   "source": [
    "Задача «Сумма кубов»\n",
    "Условие:\n",
    "По данному натуральному n вычислите сумму 13+23+33+...+n3."
   ]
  },
  {
   "cell_type": "code",
   "execution_count": null,
   "id": "85ed7c0c-a333-4a4a-88ec-2a6dab223a02",
   "metadata": {},
   "outputs": [],
   "source": [
    "n = int(input())\n",
    "sm = 0\n",
    "for i in range(1, n+1):\n",
    "    sm += i**3\n",
    "print(sm)"
   ]
  },
  {
   "cell_type": "markdown",
   "id": "598b06a0-eb3a-434a-88e3-2bfeff62c869",
   "metadata": {},
   "source": [
    "Задача «Факториал»\n",
    "Условие:\n",
    "Факториалом числа n называется произведение 1 × 2 × ... × n. Обозначение: n!.\n",
    "По данному натуральному n вычислите значение n!. Пользоваться математической библиотекой math в этой задаче запрещено."
   ]
  },
  {
   "cell_type": "code",
   "execution_count": null,
   "id": "f2f294ab-0a39-4df5-b04d-30eab8bb287f",
   "metadata": {},
   "outputs": [],
   "source": [
    "n = int(input())\n",
    "factorial = 1\n",
    "for i in range(1, n+1):\n",
    "    factorial *= i\n",
    "print(factorial)"
   ]
  },
  {
   "cell_type": "markdown",
   "id": "e1edb3da-5aa5-4550-b1e8-da9540679a5f",
   "metadata": {},
   "source": [
    "Задача «Сумма факториалов»\n",
    "Условие:\n",
    "По данному натуральном n вычислите сумму 1!+2!+3!+...+n!. В решении этой задачи можно использовать только один цикл. Пользоваться математической библиотекой math в этой задаче запрещено."
   ]
  },
  {
   "cell_type": "code",
   "execution_count": null,
   "id": "b055b753-0fae-43e2-ac0b-0b1ab4554c70",
   "metadata": {},
   "outputs": [],
   "source": [
    "n = int(input())\n",
    "factorial = 1\n",
    "sum = 0\n",
    "for i in range(1, n+1):\n",
    "    factorial *= i\n",
    "    sum += factorial\n",
    "print(sum)"
   ]
  },
  {
   "cell_type": "markdown",
   "id": "59310e6b-3a12-41bb-b591-7fb453309947",
   "metadata": {},
   "source": [
    "Задача «Количество нулей»\n",
    "Условие:\n",
    "Дано N чисел: сначала вводится число N, затем вводится ровно N целых чисел. Подсчитайте количество нулей среди введенных чисел и выведите это количество. Вам нужно подсчитать количество чисел, равных нулю, а не количество цифр."
   ]
  },
  {
   "cell_type": "code",
   "execution_count": null,
   "id": "990eaa32-48ad-45ec-a630-76e0e4137446",
   "metadata": {},
   "outputs": [],
   "source": [
    "N = int(input())\n",
    "count = 0\n",
    "for _ in range(N):\n",
    "    if int(input()) == 0:\n",
    "        count += 1\n",
    "print(count)"
   ]
  },
  {
   "cell_type": "markdown",
   "id": "42362060-7ba5-4c1e-b228-bb196491e486",
   "metadata": {},
   "source": [
    "Задача «Лесенка»\n",
    "Условие:\n",
    "По данному натуральному n ≤ 9 выведите лесенку из n ступенек, i-я ступенька состоит из чисел от 1 до i без пробелов."
   ]
  },
  {
   "cell_type": "code",
   "execution_count": null,
   "id": "b08e1f11-0210-4497-b207-2cca5aa9b072",
   "metadata": {},
   "outputs": [],
   "source": [
    "n = int(input())\n",
    "for i in range(1, n+1):\n",
    "    for j in range(1, i+1):\n",
    "        print(j, end='')\n",
    "    print()"
   ]
  },
  {
   "cell_type": "markdown",
   "id": "f94199c5-9e50-4710-80ea-b1be46b33f72",
   "metadata": {},
   "source": [
    "Задача «Потерянная карточка»\n",
    "Условие:\n",
    "Для настольной игры используются карточки с номерами от 1 до N. Одна карточка потерялась. Найдите ее, зная номера оставшихся карточек.\n",
    "Дано число N, далее N − 1 номер оставшихся карточек (различные числа от 1 до N). Программа должна вывести номер потерянной карточки.\n",
    "Для самых умных: массивами и аналогичными структурами данных пользоваться нельзя.\n",
    "\n"
   ]
  },
  {
   "cell_type": "code",
   "execution_count": null,
   "id": "0a1bb44c-abf1-4496-9604-a47a29cb1929",
   "metadata": {},
   "outputs": [],
   "source": [
    "N = int(input())\n",
    "sm1 = 0\n",
    "sm2 = 0\n",
    "for i in range (1, N + 1):\n",
    "    sm1 += i\n",
    "for x in range (N - 1):\n",
    "    sm2 += int(input())\n",
    "print(sm1 - sm2)"
   ]
  }
 ],
 "metadata": {
  "kernelspec": {
   "display_name": "Python 3 (ipykernel)",
   "language": "python",
   "name": "python3"
  },
  "language_info": {
   "codemirror_mode": {
    "name": "ipython",
    "version": 3
   },
   "file_extension": ".py",
   "mimetype": "text/x-python",
   "name": "python",
   "nbconvert_exporter": "python",
   "pygments_lexer": "ipython3",
   "version": "3.10.12"
  }
 },
 "nbformat": 4,
 "nbformat_minor": 5
}
