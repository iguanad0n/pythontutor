{
 "cells": [
  {
   "cell_type": "markdown",
   "id": "340a5fcc-993a-4981-aaa4-50531c987669",
   "metadata": {},
   "source": [
    "Задача «Минимум из двух чисел»\n",
    "Условие\n",
    "Даны два целых числа. Выведите значение наименьшего из них."
   ]
  }
 ],
 "metadata": {
  "kernelspec": {
   "display_name": "Python 3 (ipykernel)",
   "language": "python",
   "name": "python3"
  },
  "language_info": {
   "codemirror_mode": {
    "name": "ipython",
    "version": 3
   },
   "file_extension": ".py",
   "mimetype": "text/x-python",
   "name": "python",
   "nbconvert_exporter": "python",
   "pygments_lexer": "ipython3",
   "version": "3.10.12"
  }
 },
 "nbformat": 4,
 "nbformat_minor": 5
}
