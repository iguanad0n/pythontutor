{
 "cells": [
  {
   "cell_type": "markdown",
   "id": "49a82a1b-f61d-473e-a32c-f225a63a6206",
   "metadata": {},
   "source": [
    "Задача «Делаем срезы»\n",
    "Условие:\n",
    "Дана строка.\n",
    "Сначала выведите третий символ этой строки.\n",
    "Во второй строке выведите предпоследний символ этой строки.\n",
    "В третьей строке выведите первые пять символов этой строки.\n",
    "В четвертой строке выведите всю строку, кроме последних двух символов.\n",
    "В пятой строке выведите все символы с четными индексами (считая, что индексация начинается с 0, поэтому символы выводятся начиная с первого).\n",
    "В шестой строке выведите все символы с нечетными индексами, то есть начиная со второго символа строки.\n",
    "В седьмой строке выведите все символы в обратном порядке.\n",
    "В восьмой строке выведите все символы строки через один в обратном порядке, начиная с последнего.\n",
    "В девятой строке выведите длину данной строки."
   ]
  },
  {
   "cell_type": "code",
   "execution_count": null,
   "id": "3a1fb2d4-ce30-4981-94c2-35bb6c172e92",
   "metadata": {},
   "outputs": [],
   "source": [
    "a = input()\n",
    "print(a[2])\n",
    "print(a[-2])\n",
    "print(a[:5])\n",
    "print(a[:-2])\n",
    "print(a[::2])\n",
    "print(a[1::2])\n",
    "print(a[::-1])\n",
    "print(a[::-2])\n",
    "print(len(a))"
   ]
  },
  {
   "cell_type": "markdown",
   "id": "9c76f1e3-df6b-470c-b9ed-bc2628b3004b",
   "metadata": {},
   "source": [
    "Задача «Количество слов»\n",
    "Условие:\n",
    "Дана строка, состоящая из слов, разделенных пробелами. Определите, сколько в ней слов. Используйте для решения задачи метод count."
   ]
  },
  {
   "cell_type": "code",
   "execution_count": null,
   "id": "942723ec-91e1-40eb-b6b3-5220b270ed40",
   "metadata": {},
   "outputs": [],
   "source": [
    "print(input().count(' ') + 1)"
   ]
  },
  {
   "cell_type": "markdown",
   "id": "e5862988-0235-412f-a768-bcf55fb80f17",
   "metadata": {},
   "source": [
    "Задача «Две половинки»\n",
    "Условие:\n",
    "Дана строка. Разрежьте ее на две равные части (если длина строки — четная, а если длина строки нечетная, то длина первой части должна быть на один символ больше). Переставьте эти две части местами, результат запишите в новую строку и выведите на экран.\n",
    "\n",
    "При решении этой задачи не стоит пользоваться инструкцией if."
   ]
  },
  {
   "cell_type": "code",
   "execution_count": null,
   "id": "d049cf41-ec03-4dd3-8344-48405fb1824e",
   "metadata": {},
   "outputs": [],
   "source": [
    "a = input()\n",
    "print(a[(len(a) + (len(a) % 2)) // 2:] + a[:(len(a) + (len(a) % 2)) // 2])"
   ]
  },
  {
   "cell_type": "markdown",
   "id": "c4c75233-8e6a-4e21-95ea-de92f1ab6f00",
   "metadata": {},
   "source": [
    "Задача «Переставить два слова»\n",
    "Условие:\n",
    "Дана строка, состоящая ровно из двух слов, разделенных пробелом. Переставьте эти слова местами. Результат запишите в строку и выведите получившуюся строку.\n",
    "\n",
    "При решении этой задачи не стоит пользоваться циклами и инструкцией if."
   ]
  },
  {
   "cell_type": "code",
   "execution_count": null,
   "id": "c425a557-ef3f-4a71-be35-f50af579a447",
   "metadata": {},
   "outputs": [],
   "source": [
    "a = input()\n",
    "mid = a.find(' ')\n",
    "print(a[mid:] + a[mid] + a[:mid])"
   ]
  },
  {
   "cell_type": "markdown",
   "id": "b35efd37-e2a0-4fc7-9ac3-73f370e32c93",
   "metadata": {},
   "source": [
    "Задача «Первое и последнее вхождения»\n",
    "Условие:\n",
    "Дана строка. Если в этой строке буква f встречается только один раз, выведите её индекс. Если она встречается два и более раз, выведите индекс её первого и последнего появления. Если буква f в данной строке не встречается, ничего не выводите.\n",
    "\n",
    "При решении этой задачи не стоит использовать циклы."
   ]
  },
  {
   "cell_type": "code",
   "execution_count": null,
   "id": "3701dc94-2ae3-4051-bf4b-d954ce61e90e",
   "metadata": {},
   "outputs": [],
   "source": [
    "a = input()\n",
    "if a.count('f') == 1:\n",
    "    print(a.find('f'))\n",
    "elif a.count('f') >= 2:\n",
    "    print((a.find('f')), (a.rfind('f')))\n",
    "else:\n",
    "    print()\n"
   ]
  },
  {
   "cell_type": "markdown",
   "id": "69b98815-2da2-4cca-b270-b7b9a2dcb1d4",
   "metadata": {},
   "source": [
    "Задача «Второе вхождение»\n",
    "Условие:\n",
    "Дана строка. Найдите в этой строке второе вхождение буквы f, и выведите индекс этого вхождения. Если буква f в данной строке встречается только один раз, выведите число -1, а если не встречается ни разу, выведите число -2."
   ]
  },
  {
   "cell_type": "code",
   "execution_count": null,
   "id": "f71883ae-6858-406a-9485-b4df4a58240a",
   "metadata": {},
   "outputs": [],
   "source": [
    "a = input()\n",
    "if a.count('f') == 0:\n",
    "    print(-2)\n",
    "elif a.count('f') == 1:\n",
    "    print(-1)\n",
    "elif a.count ('f') >= 2:\n",
    "    b = a.replace('f', '_', 1)\n",
    "    print(b.find('f'))"
   ]
  },
  {
   "cell_type": "markdown",
   "id": "c29f76f6-0b2d-4281-80c0-817348128274",
   "metadata": {},
   "source": [
    "Задача «Удаление фрагмента»\n",
    "Условие:\n",
    "Дана строка, в которой буква h встречается минимум два раза. Удалите из этой строки первое и последнее вхождение буквы h, а также все символы, находящиеся между ними."
   ]
  },
  {
   "cell_type": "code",
   "execution_count": null,
   "id": "690934e0-cb2a-4051-bb4e-d01bce0ffcfa",
   "metadata": {},
   "outputs": [],
   "source": [
    "a = input()\n",
    "print(a[:a.find('h')] + a[a.rfind('h') +1:])"
   ]
  },
  {
   "cell_type": "markdown",
   "id": "411ab40a-25c1-4b2d-a677-19463079ebc6",
   "metadata": {},
   "source": [
    "Задача «Обращение фрагмента»\n",
    "Условие:\n",
    "Дана строка, в которой буква h встречается как минимум два раза. Разверните последовательность символов, заключенную между первым и последним появлением буквы h, в противоположном порядке."
   ]
  },
  {
   "cell_type": "code",
   "execution_count": null,
   "id": "7e781265-8948-498f-bd5a-9e5e8ddb6910",
   "metadata": {},
   "outputs": [],
   "source": [
    "a = input()\n",
    "i = a.find('h')\n",
    "j = a.rfind('h')\n",
    "x = a[i + 1:j]\n",
    "x = x[::-1]\n",
    "print(a[:i + 1] + x + a[j:])"
   ]
  },
  {
   "cell_type": "markdown",
   "id": "47f3847f-3bd4-4916-8f13-e307e31a2f3d",
   "metadata": {},
   "source": [
    "Задача «Замена подстроки»\n",
    "Условие:\n",
    "Дана строка. Замените в этой строке все цифры 1 на слово one."
   ]
  },
  {
   "cell_type": "code",
   "execution_count": null,
   "id": "b8eda5b9-7c27-40b1-a0b0-c199603486a9",
   "metadata": {},
   "outputs": [],
   "source": [
    "print(input().replace('1', 'one'))"
   ]
  },
  {
   "cell_type": "markdown",
   "id": "e42a68fe-2661-4c84-af5a-540fa41ae81a",
   "metadata": {},
   "source": [
    "Задача «Удаление символа»\n",
    "Условие:\n",
    "Дана строка. Удалите из этой строки все символы @."
   ]
  },
  {
   "cell_type": "code",
   "execution_count": null,
   "id": "6e03ddaf-bc64-453f-bc53-2e42cfb6ddce",
   "metadata": {},
   "outputs": [],
   "source": [
    "print(input().replace('@', ''))"
   ]
  },
  {
   "cell_type": "markdown",
   "id": "a4faa001-cf89-4eda-b0bd-85d60386dcad",
   "metadata": {},
   "source": [
    "Задача «Замена внутри фрагмента»\n",
    "Условие:\n",
    "Дана строка. Замените в этой строке все появления буквы h на букву H, кроме первого и последнего вхождения."
   ]
  },
  {
   "cell_type": "code",
   "execution_count": null,
   "id": "6f43166b-8ced-4205-ad38-73e377cc5ae8",
   "metadata": {},
   "outputs": [],
   "source": [
    "a = input()\n",
    "x = a[:a.find('h') + 1]\n",
    "y = a[a.find('h') + 1 : a.rfind('h')]\n",
    "z = a[a.rfind('h'):]\n",
    "print(x + y.replace('h','H') + z)"
   ]
  },
  {
   "cell_type": "markdown",
   "id": "dd96e2ff-0b07-4ff6-8a09-50ba574827b7",
   "metadata": {},
   "source": [
    "Задача «Удалить каждый третий символ»\n",
    "Условие:\n",
    "Дана строка. Удалите из нее все символы, чьи индексы делятся на 3."
   ]
  },
  {
   "cell_type": "code",
   "execution_count": null,
   "id": "6f113470-9e2b-4e06-a342-4245fb6fcf21",
   "metadata": {},
   "outputs": [],
   "source": [
    "a = input()\n",
    "for i in range(len(a)):\n",
    "    if i % 3 != 0:\n",
    "        print(a[i], end='')"
   ]
  }
 ],
 "metadata": {
  "kernelspec": {
   "display_name": "Python 3 (ipykernel)",
   "language": "python",
   "name": "python3"
  },
  "language_info": {
   "codemirror_mode": {
    "name": "ipython",
    "version": 3
   },
   "file_extension": ".py",
   "mimetype": "text/x-python",
   "name": "python",
   "nbconvert_exporter": "python",
   "pygments_lexer": "ipython3",
   "version": "3.10.12"
  }
 },
 "nbformat": 4,
 "nbformat_minor": 5
}
