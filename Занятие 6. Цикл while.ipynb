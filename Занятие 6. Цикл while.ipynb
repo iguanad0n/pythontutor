{
 "cells": [
  {
   "cell_type": "markdown",
   "id": "4b9c0d45-5f26-43fc-94c7-6f86bb8c9194",
   "metadata": {},
   "source": [
    "Задача «Список квадратов»\n",
    "Условие:\n",
    "По данному целому числу N распечатайте все квадраты натуральных чисел, не превосходящие N, в порядке возрастания."
   ]
  },
  {
   "cell_type": "code",
   "execution_count": null,
   "id": "3dda920a-954a-4f0c-b355-f75f07af8f83",
   "metadata": {},
   "outputs": [],
   "source": [
    "N = int(input())\n",
    "s = 1\n",
    "while s ** 2 <= N:\n",
    "    print(s**2)\n",
    "    s += 1"
   ]
  },
  {
   "cell_type": "markdown",
   "id": "dcf3a1d6-6910-407b-9531-3c688e8e24f0",
   "metadata": {},
   "source": [
    "Задача «Минимальный делитель»\n",
    "Условие:\n",
    "Дано целое число, не меньшее 2. Выведите его наименьший натуральный делитель, отличный от 1."
   ]
  },
  {
   "cell_type": "code",
   "execution_count": null,
   "id": "a8455772-1c5f-4af4-9202-fa44b24e70ff",
   "metadata": {},
   "outputs": [],
   "source": [
    "n = int(input())\n",
    "i = 2\n",
    "while n % i != 0:\n",
    "    i += 1\n",
    "print(i)"
   ]
  },
  {
   "cell_type": "markdown",
   "id": "356cbc19-042a-42d0-bd8b-1c042e6e92f7",
   "metadata": {},
   "source": [
    "Задача «Степень двойки»\n",
    "Условие:\n",
    "По данному натуральному числу N найдите наибольшую целую степень двойки, не превосходящую N. Выведите показатель степени и саму степень.\n",
    "\n",
    "Операцией возведения в степень пользоваться нельзя!"
   ]
  },
  {
   "cell_type": "code",
   "execution_count": null,
   "id": "f5492d80-da07-409f-b769-f859883d68a2",
   "metadata": {},
   "outputs": [],
   "source": [
    "N = int(input())\n",
    "x = 1\n",
    "i = 0\n",
    "while N >= x * 2:\n",
    "    x *= 2\n",
    "    i += 1\n",
    "print(i, x)"
   ]
  },
  {
   "cell_type": "markdown",
   "id": "b5517fd9-1436-4395-acbc-36e4db6c7acf",
   "metadata": {},
   "source": [
    "Задача «Утренняя пробежка»\n",
    "Условие:\n",
    "В первый день спортсмен пробежал x километров, а затем он каждый день увеличивал пробег на 10% от предыдущего значения. По данному числу y определите номер дня, на который пробег спортсмена составит не менее y километров.\n",
    "\n",
    "Программа получает на вход действительные числа x и y и должна вывести одно натуральное число."
   ]
  },
  {
   "cell_type": "code",
   "execution_count": null,
   "id": "f330c20e-d876-4d02-8415-a7e09d15f59e",
   "metadata": {},
   "outputs": [],
   "source": [
    "x,y = int(input()), int(input())\n",
    "day = 1\n",
    "while x < y:\n",
    "    x *= 1.1\n",
    "    day += 1\n",
    "print(day)"
   ]
  },
  {
   "cell_type": "markdown",
   "id": "b63c2de8-b3dd-4114-bc90-2651e7969ee6",
   "metadata": {},
   "source": [
    "Задача «Длина последовательности»\n",
    "Условие:\n",
    "Программа получает на вход последовательность целых неотрицательных чисел, каждое число записано в отдельной строке. Последовательность завершается числом 0, при считывании которого программа должна закончить свою работу и вывести количество членов последовательности (не считая завершающего числа 0). Числа, следующие за числом 0, считывать не нужно."
   ]
  },
  {
   "cell_type": "code",
   "execution_count": null,
   "id": "c4c91c4d-a381-4ace-9a29-15db342d6399",
   "metadata": {},
   "outputs": [],
   "source": [
    "n = 0\n",
    "while int(input()) != 0:\n",
    "    n += 1\n",
    "print(n)"
   ]
  },
  {
   "cell_type": "markdown",
   "id": "33afc3c5-3b27-4c41-a51a-2c5e6a6df771",
   "metadata": {},
   "source": [
    "Задача «Сумма последовательности»\n",
    "Условие:\n",
    "Определите сумму всех элементов последовательности, завершающейся числом 0. В этой и во всех следующих задачах числа, следующие за первым нулем, учитывать не нужно."
   ]
  },
  {
   "cell_type": "code",
   "execution_count": null,
   "id": "3e2c5e45-eec5-4aec-8bd4-57c80c552194",
   "metadata": {},
   "outputs": [],
   "source": [
    "n = int(input())\n",
    "sm = 0\n",
    "while n != 0:\n",
    "    sm += n\n",
    "    n = int(input())\n",
    "print(sm)"
   ]
  },
  {
   "cell_type": "markdown",
   "id": "4ce49e21-4ce8-4e25-9ac1-b4b3696a6b2c",
   "metadata": {},
   "source": [
    "Задача «Среднее значение последовательности»\n",
    "Условие:\n",
    "Определите среднее значение всех элементов последовательности, завершающейся числом 0."
   ]
  },
  {
   "cell_type": "code",
   "execution_count": null,
   "id": "901cb576-f7e9-4d22-98eb-8ceacca969c7",
   "metadata": {},
   "outputs": [],
   "source": [
    "n = int(input())\n",
    "sm = 0\n",
    "count = 0\n",
    "while n != 0:\n",
    "    count += 1\n",
    "    sm += n\n",
    "    n = int(input())\n",
    "print(sm / count)"
   ]
  },
  {
   "cell_type": "markdown",
   "id": "e1803891-bf96-4e1e-9325-49e69d48724f",
   "metadata": {},
   "source": [
    "Задача «Максимум последовательности»\n",
    "Условие:\n",
    "Последовательность состоит из натуральных чисел и завершается числом 0. Определите значение наибольшего элемента последовательности."
   ]
  },
  {
   "cell_type": "code",
   "execution_count": null,
   "id": "973460b9-e031-4774-a37e-14d8b6d2bf0b",
   "metadata": {},
   "outputs": [],
   "source": [
    "mx = 0\n",
    "a = -1\n",
    "while a != 0:\n",
    "    a = int(input())\n",
    "    if a > mx:\n",
    "        mx = a\n",
    "print(mx)"
   ]
  },
  {
   "cell_type": "markdown",
   "id": "4f20bec0-d582-4a41-95b9-e66e5e516e81",
   "metadata": {},
   "source": [
    "Задача «Индекс максимума последовательности»\n",
    "Условие:\n",
    "Последовательность состоит из натуральных чисел и завершается числом 0. Определите индекс наибольшего элемента последовательности. Если наибольших элементов несколько, выведите индекс первого из них. Нумерация элементов начинается с нуля."
   ]
  },
  {
   "cell_type": "code",
   "execution_count": null,
   "id": "e8c20284-b541-49a4-ab83-e59fcfb1a238",
   "metadata": {},
   "outputs": [],
   "source": [
    "a = -1\n",
    "mx = 0\n",
    "index = -1\n",
    "count = 0\n",
    "while a != 0:\n",
    "    a = int(input())\n",
    "    if a > mx:\n",
    "        mx = a\n",
    "        index = count\n",
    "    count += 1\n",
    "print(index)"
   ]
  },
  {
   "cell_type": "markdown",
   "id": "5b29c0cd-fd13-44d4-a69e-1131b8ef1f5b",
   "metadata": {},
   "source": [
    "Задача «Количество четных элементов последовательности»\n",
    "Условие:\n",
    "Определите количество четных элементов в последовательности, завершающейся числом 0."
   ]
  },
  {
   "cell_type": "code",
   "execution_count": null,
   "id": "18b8d5c8-ca3e-4b30-9766-ec3eb85722d1",
   "metadata": {},
   "outputs": [],
   "source": [
    "a = int(input())\n",
    "count = 0\n",
    "while a != 0:\n",
    "    if a % 2 == 0:\n",
    "        count += 1\n",
    "    a = int(input())\n",
    "print(count)"
   ]
  },
  {
   "cell_type": "markdown",
   "id": "a9bac509-abac-4e56-b0cf-29a564f69ea6",
   "metadata": {},
   "source": [
    "Задача «Количество элементов, которые больше предыдущего»\n",
    "Условие:\n",
    "Последовательность состоит из натуральных чисел и завершается числом 0. Определите, сколько элементов этой последовательности больше предыдущего элемента."
   ]
  },
  {
   "cell_type": "code",
   "execution_count": null,
   "id": "9fe4873f-98a9-4087-a0a9-93966a5563b8",
   "metadata": {},
   "outputs": [],
   "source": [
    "n=int(input())\n",
    "count=0\n",
    "while n != 0:\n",
    "    i=int(input())\n",
    "    if i>n:\n",
    "        count+=1 \n",
    "    n=i\n",
    "print(count)"
   ]
  },
  {
   "cell_type": "markdown",
   "id": "9e48f3a9-661f-44ce-87b9-6eff60fcda9f",
   "metadata": {},
   "source": [
    "Задача «Второй максимум»\n",
    "Условие:\n",
    "Последовательность состоит из различных натуральных чисел и завершается числом 0. Определите значение второго по величине элемента в этой последовательности. Гарантируется, что в последовательности есть хотя бы два элемента."
   ]
  },
  {
   "cell_type": "code",
   "execution_count": null,
   "id": "fef70b6a-e640-46a4-867e-8398a4e75e75",
   "metadata": {},
   "outputs": [],
   "source": [
    "mx1= int(input())\n",
    "mx2 = int(input())\n",
    "if mx1 < mx2:\n",
    "    mx1, mx2 = mx2, mx1\n",
    "a = int(input())\n",
    "while a != 0:\n",
    "    if a > mx1:\n",
    "        mx2, mx1 = mx1, a\n",
    "    elif a > mx2:\n",
    "        mx2 = a\n",
    "    a = int(input())\n",
    "print(mx2)"
   ]
  },
  {
   "cell_type": "markdown",
   "id": "954096bc-b53c-4a24-bf58-917abb5a3d8b",
   "metadata": {},
   "source": [
    "Задача «Количество элементов, равных максимуму»\n",
    "Условие:\n",
    "Последовательность состоит из натуральных чисел и завершается числом 0. Определите, сколько элементов этой последовательности равны ее наибольшему элементу."
   ]
  },
  {
   "cell_type": "code",
   "execution_count": null,
   "id": "095145d4-dd70-4a6f-8f8d-8a49b71cd3fb",
   "metadata": {},
   "outputs": [],
   "source": [
    "count = 1\n",
    "a = int(input())\n",
    "mx = 0\n",
    "while a != 0:\n",
    "    b = mx\n",
    "    if a > mx:\n",
    "        mx = a\n",
    "        count = 1\n",
    "    elif a == b:\n",
    "        count += 1\n",
    "    a = int(input())\n",
    "print(count)"
   ]
  },
  {
   "cell_type": "markdown",
   "id": "d838e4f7-c791-496a-aec0-d7c6a86b5a31",
   "metadata": {},
   "source": [
    "Задача «Числа Фибоначчи»\n",
    "Условие:\n",
    "Последовательность Фибоначчи определяется так:\n",
    "φ0 = 0,  φ1 = 1,  φn = φn−1 + φn−2.\n",
    "\n",
    "По данному числу n определите n-е число Фибоначчи φn.\n",
    "\n",
    "Эту задачу можно решать и циклом for."
   ]
  },
  {
   "cell_type": "code",
   "execution_count": null,
   "id": "25927902-4dc9-494a-a9e1-dd8c6c0c5694",
   "metadata": {},
   "outputs": [],
   "source": [
    "n = int(input())\n",
    "if n == 0:\n",
    "    print(0)\n",
    "else:\n",
    "    a, b = 0, 1\n",
    "    for i in range(2, n + 1):\n",
    "        a, b = b, a + b\n",
    "    print(b)\n"
   ]
  },
  {
   "cell_type": "markdown",
   "id": "bde7d888-545c-410e-a666-97303563c35f",
   "metadata": {},
   "source": [
    "Задача «Номер числа Фибоначчи»\n",
    "Условие:\n",
    "Дано натуральное число A. Определите, каким по счету числом Фибоначчи оно является, то есть выведите такое число n, что φn = A. Если А не является числом Фибоначчи, выведите число -1."
   ]
  },
  {
   "cell_type": "code",
   "execution_count": null,
   "id": "4505a399-ed88-4742-a758-fe94a5ebc6a6",
   "metadata": {},
   "outputs": [],
   "source": [
    "x = int(input())\n",
    "a,b = 0,1\n",
    "count = 1\n",
    "while x > b:\n",
    "    a,b = b,a+b\n",
    "    count += 1\n",
    "if x == b:\n",
    "    print(count)\n",
    "else:\n",
    "    print(-1)"
   ]
  },
  {
   "cell_type": "markdown",
   "id": "b5ef5286-a727-45fc-99aa-84a59503c811",
   "metadata": {},
   "source": [
    "Задача «Максимальное число идущих подряд равных элементов»\n",
    "Условие:\n",
    "Дана последовательность натуральных чисел, завершающаяся числом 0. Определите, какое наибольшее число подряд идущих элементов этой последовательности равны друг другу."
   ]
  },
  {
   "cell_type": "code",
   "execution_count": null,
   "id": "7ae42140-2e8e-45df-aff5-a994d0512171",
   "metadata": {},
   "outputs": [],
   "source": [
    "prev = int(input()) \n",
    "actual = int(input())\n",
    "count = 1\n",
    "count_max = 1\n",
    "while actual != 0:\n",
    "    if actual == prev:\n",
    "        count += 1\n",
    "    elif actual != prev:\n",
    "        count = 1\n",
    "    if count > count_max:\n",
    "        count_max = count\n",
    "    prev, actual = actual, int(input()) \n",
    "print(count_max)"
   ]
  },
  {
   "attachments": {},
   "cell_type": "markdown",
   "id": "e2bc9f01-bd0c-48f2-b966-3c6b96c9ef3b",
   "metadata": {},
   "source": [
    "Задача «Стандартное отклонение»\n",
    "Условие\n",
    "Дана последовательность натуральных чисел x1, x2, ..., xn.\n",
    "Определите стандартное отклонение для данной последовательности натуральных чисел, завершающейся числом 0."
   ]
  },
  {
   "cell_type": "code",
   "execution_count": null,
   "id": "b189ab55-6188-4cc8-b576-684b8958f4f3",
   "metadata": {},
   "outputs": [],
   "source": [
    "from math import sqrt\n",
    "\n",
    "partial_sum = 0\n",
    "partial_sum_squares = 0\n",
    "x_i = int(input())\n",
    "n = 0\n",
    "while x_i != 0:\n",
    "    n += 1\n",
    "    partial_sum += x_i\n",
    "    partial_sum_squares += x_i ** 2\n",
    "    x_i = int(input())\n",
    "print(sqrt((partial_sum_squares - partial_sum ** 2 / n) / (n - 1)))"
   ]
  }
 ],
 "metadata": {
  "kernelspec": {
   "display_name": "Python 3 (ipykernel)",
   "language": "python",
   "name": "python3"
  },
  "language_info": {
   "codemirror_mode": {
    "name": "ipython",
    "version": 3
   },
   "file_extension": ".py",
   "mimetype": "text/x-python",
   "name": "python",
   "nbconvert_exporter": "python",
   "pygments_lexer": "ipython3",
   "version": "3.10.12"
  }
 },
 "nbformat": 4,
 "nbformat_minor": 5
}
